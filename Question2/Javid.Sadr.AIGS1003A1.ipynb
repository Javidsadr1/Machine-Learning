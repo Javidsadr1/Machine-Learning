{
 "cells": [
  {
   "cell_type": "markdown",
   "id": "b42af97c",
   "metadata": {},
   "source": [
    "## Answer Question 0"
   ]
  },
  {
   "cell_type": "markdown",
   "id": "27397454",
   "metadata": {},
   "source": [
    "### I wrote my opinion On the discussion board"
   ]
  },
  {
   "cell_type": "markdown",
   "id": "16ecf072",
   "metadata": {},
   "source": [
    "## ------------------------------------------------------------------------------------------"
   ]
  },
  {
   "cell_type": "markdown",
   "id": "e23fd4b9",
   "metadata": {},
   "source": [
    "## Answer Question 1"
   ]
  },
  {
   "cell_type": "markdown",
   "id": "878e732a",
   "metadata": {},
   "source": [
    "#### Explanation : Based to the question, we supposed to decompose the joint distribution. The training data provides us with four expressions and their corresponding category. Based on Naive Bayes' theorem we can find the probabilities that the test expresssion for each category, after that pick the one with the highest probability. "
   ]
  },
  {
   "cell_type": "markdown",
   "id": "e5df44a8",
   "metadata": {},
   "source": [
    "#### Naive Bayes theorem is:\n",
    "\n",
    "P(A|B) = (P(B|A) x P(A)) / P(B)"
   ]
  },
  {
   "cell_type": "markdown",
   "id": "d7636962",
   "metadata": {},
   "source": [
    "### 1. Finding P(sunny|a cone of ice cream)"
   ]
  },
  {
   "cell_type": "markdown",
   "id": "5d09cb6e",
   "metadata": {},
   "source": [
    "##### P(sunny|a cone of ice cream) "
   ]
  },
  {
   "cell_type": "markdown",
   "id": "cb99f8c7",
   "metadata": {},
   "source": [
    "##### = (P(a cone of ice cream|sunny) x P(sunny)) / P(a cone of ice cream)"
   ]
  },
  {
   "cell_type": "markdown",
   "id": "55661cfe",
   "metadata": {},
   "source": [
    "##### #P(a cone of ice cream|sunny) = (P(a|sunny) x P(cone|sunny) x P(of|sunny) x P(ice|sunny) x P(cream|sunny)\n",
    "##### # P(a cone of ice cream) = P(a) + P(cone) + P(of) + P(ice) + P(cream)"
   ]
  },
  {
   "cell_type": "markdown",
   "id": "d64964d0",
   "metadata": {},
   "source": [
    "##### = ((P(a|sunny) x P(cone|sunny) x P(of|sunny) x P(ice|sunny) x P(cream|sunny)) x P(sunny)) / (P(a) x P(cone) x P(of) x P(ice) x P(cream))"
   ]
  },
  {
   "cell_type": "markdown",
   "id": "6624f6b4",
   "metadata": {},
   "source": [
    "### 2. Finding P(rainy|a cup of hot coffee)"
   ]
  },
  {
   "cell_type": "markdown",
   "id": "db90c789",
   "metadata": {},
   "source": [
    "##### P(rainy|a cup of hot coffee)"
   ]
  },
  {
   "cell_type": "markdown",
   "id": "33d77169",
   "metadata": {},
   "source": [
    "##### = (P(a cup of hot coffee|rainy) x P(rainy)) / P(a cup of hot coffee)"
   ]
  },
  {
   "cell_type": "markdown",
   "id": "c05ba0de",
   "metadata": {},
   "source": [
    "#### #P(a cup of hot coffee|rainy) = P(a|rainy) x P(cup|rainy) + P(of|rainy) + P(hot|rainy) + P(coffee|rainy)\n",
    "#### #P(a cup of hot coffee) = P(a) + P(cup) + P(of) + P(hot) + P(coffee)"
   ]
  },
  {
   "cell_type": "markdown",
   "id": "87301be6",
   "metadata": {},
   "source": [
    "##### = ((P(a|rainy) x P(cup|rainy) x P(of|rainy) x P(coffee|rainy)) x P(rainy)) / (P(a) x P(cup) x P(of) x P(hot) x P(coffee))"
   ]
  },
  {
   "cell_type": "markdown",
   "id": "c8307756",
   "metadata": {},
   "source": [
    "## ------------------------------------------------------------------------------------------"
   ]
  },
  {
   "cell_type": "markdown",
   "id": "a769267d",
   "metadata": {},
   "source": [
    "## Answer to Question 3"
   ]
  },
  {
   "cell_type": "code",
   "execution_count": 4,
   "id": "5c6f9b42",
   "metadata": {},
   "outputs": [
    {
     "name": "stdout",
     "output_type": "stream",
     "text": [
      "Doing classification\n",
      "--------------------\n",
      "data:\t\tdigits\n",
      "classifier:\t\tnaiveBayes\n",
      "training set size:\t100\n",
      "using automatic tuning for naivebayes\n",
      "trying to read: digitdata/trainingimages\n",
      "testing\n",
      "trying to read: digitdata/traininglabels\n",
      "testing\n",
      "trying to read: digitdata/validationimages\n",
      "testing\n",
      "trying to read: digitdata/validationlabels\n",
      "testing\n",
      "trying to read: digitdata/testimages\n",
      "testing\n",
      "trying to read: digitdata/testlabels\n",
      "testing\n",
      "Extracting features...\n",
      "Training...\n",
      "Validating...\n",
      "('74', 'correct out of 100 (74.0%).')\n",
      "Testing...\n",
      "('65', 'correct out of 100 (65.0%).')\n",
      "===================================\n",
      "Mistake on example 3\n",
      "Predicted 3; truth is 5\n",
      "Image: \n",
      "                            \n",
      "                            \n",
      "                            \n",
      "                            \n",
      "                            \n",
      "          +#########+       \n",
      "         +###########+      \n",
      "         ############+      \n",
      "         ############       \n",
      "         ####+++#####       \n",
      "         +##+     +++       \n",
      "         +###++++           \n",
      "          ########+         \n",
      "          #########+        \n",
      "          ##########+       \n",
      "          +##########       \n",
      "           +++  ++###+      \n",
      "                  +###      \n",
      "      ++           ###      \n",
      "     +###++       +###      \n",
      "      ######++   +###+      \n",
      "      ++#############       \n",
      "       ++###########+       \n",
      "         +#########+        \n",
      "           ++####++         \n",
      "                            \n",
      "                            \n",
      "                            \n"
     ]
    }
   ],
   "source": [
    "%run dataClassifier.py -c naiveBayes --autotune"
   ]
  }
 ],
 "metadata": {
  "kernelspec": {
   "display_name": "Python 3 (ipykernel)",
   "language": "python",
   "name": "python3"
  },
  "language_info": {
   "codemirror_mode": {
    "name": "ipython",
    "version": 3
   },
   "file_extension": ".py",
   "mimetype": "text/x-python",
   "name": "python",
   "nbconvert_exporter": "python",
   "pygments_lexer": "ipython3",
   "version": "3.9.12"
  }
 },
 "nbformat": 4,
 "nbformat_minor": 5
}
